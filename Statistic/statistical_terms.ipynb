{
 "cells": [
  {
   "cell_type": "markdown",
   "metadata": {},
   "source": [
    "# **Statistical Terms**"
   ]
  },
  {
   "cell_type": "code",
   "execution_count": 2,
   "metadata": {},
   "outputs": [],
   "source": [
    "import scipy as sp\n",
    "import numpy as np\n",
    "import matplotlib.pyplot as plt"
   ]
  },
  {
   "cell_type": "markdown",
   "metadata": {},
   "source": [
    "## **Contents**"
   ]
  },
  {
   "cell_type": "markdown",
   "metadata": {},
   "source": [
    "- [Coefficient of Determination (R-squared: $R^2$)](#coefficient-of-determination-r-squared-r2)\n",
    "- [Coefficient of Variation (CV)](#coefficient-of-variation-cv) \n",
    "- [Correlation Coefficient (Pearson's r)](#correlation-coefficient-pearsons-r)\n",
    "- [Covariance](#covariance)\n",
    "- [Mean](#mean)\n",
    "- [Mean Normalization](#mean-normalization)\n",
    "- [Min-Max Normalization](#min-max-normalization)\n",
    "- [Standard Deviation](#standard-deviation)\n",
    "- [Variance](#variance)\n",
    "- [Z-Score (Standard Score)](#z-score-standard-score)"
   ]
  },
  {
   "cell_type": "markdown",
   "metadata": {},
   "source": [
    "## **Coefficient of Determination (R-squared: $R^2$)**"
   ]
  },
  {
   "cell_type": "markdown",
   "metadata": {},
   "source": [
    "The **coefficient of determination** is a measure of how well the regression line represents the data.\n",
    "$$ \n",
    "R^2 = 1 - \\frac{SS_{res}}{SS_{tot}} \n",
    "$$\n",
    "- Where\n",
    "    - $ SS_{res} $ is the sum of squares of residuals\n",
    "    - $ SS_{tot} $ is the total sum of squares\n",
    "\n",
    "**HINT**: In linear least squares multiple regression (with fitted intercept and slope), $R^2$ equals $\\rho^2(y, \\hat{y})$, the square of the [Pearson correlation coefficient](#correlation-coefficient-pearsons-r-pcc) between the observed $y$ and modeled (predicted) $\\hat{y}$ data values of the dependent variable."
   ]
  },
  {
   "cell_type": "markdown",
   "metadata": {},
   "source": [
    "## **Coefficient of Variation (CV)**"
   ]
  },
  {
   "cell_type": "markdown",
   "metadata": {},
   "source": [
    "In probability theory and statistics, the **coefficient of variation (CV)**, also known as normalized root-mean-square deviation (NRMSD), **percent RMS**, and **relative standard deviation (RSD)**, is a standardized measure of dispersion of a probability distribution or frequency distribution.\n",
    "\n",
    "It is defined as the ratio of the standard deviation $\\sigma$ to the mean $\\mu$ (or its absolute value, $|\\mu|$) and often expresses as a percentage (%RSD).\n",
    "\n",
    "The CV or RSD is widely used in analytical chemistry to express the precision and repeatability of an assay.\n",
    "For Percent CV, multiply the coefficient of variation by 100 ($CV \\times 100$)."
   ]
  },
  {
   "cell_type": "markdown",
   "metadata": {},
   "source": [
    "### **Population**"
   ]
  },
  {
   "cell_type": "markdown",
   "metadata": {},
   "source": [
    "$$\n",
    "CV = \\frac{\\sigma}{\\mu}\n",
    "$$\n",
    "- Where\n",
    "    - $ \\sigma $ is the standard deviation of the population\n",
    "    - $ \\mu $ is the mean of the population"
   ]
  },
  {
   "cell_type": "markdown",
   "metadata": {},
   "source": [
    "### **Sample**"
   ]
  },
  {
   "cell_type": "markdown",
   "metadata": {},
   "source": [
    "$$\n",
    "CV = \\frac{s}{\\bar{x}}\n",
    "$$\n",
    "- Where\n",
    "    - $ s $ is the standard deviation of the sample\n",
    "    - $ \\bar{x} $ is the mean of the sample"
   ]
  },
  {
   "cell_type": "markdown",
   "metadata": {},
   "source": [
    "## **Correlation Coefficient (Pearson's r)**"
   ]
  },
  {
   "cell_type": "markdown",
   "metadata": {},
   "source": [
    "The **correlation coefficient** is a statistical measure that describes the strength and direction of a relationship between two variables. It ranges from -1 to 1. The closer the value is to 1, the stronger the relationship.\n",
    "\n",
    "It is  essentially a normalized measurement of the [covariance](#covariance). As with covariance itself, the measure can only reflect a linear correlation of variables, and ignores many other types of relationships or correlations. \n",
    "\n",
    "As a simple example, one would expect the age and height of a sample of children from a school to have a Pearson correlation coefficient significantly greater than 0, but less than 1 (as 1 would represent an unrealistically perfect correlation).\n",
    "\n",
    "The following table shows the correlation coefficient's strength and direction:\n",
    "\n",
    "| Correlation Coefficient | Strength of Relationship | Correlation Direction / Type |\n",
    "|-------------------------|--------------------------|-----------------------|\n",
    "| -0.7 to -1.0 | Very Strong | Negative |\n",
    "| -0.5 to -0.7 | Strong | Negative |\n",
    "| -0.3 to -0.5 | Moderate | Negative |\n",
    "| -0.1 to -0.3 | Weak | Negative |\n",
    "| 0.0 | None | Zero |\n",
    "| 0.1 to 0.3 | Weak | Positive |\n",
    "| 0.3 to 0.5 | Moderate | Positive |\n",
    "| 0.5 to 0.7 | Strong | Positive |\n",
    "| 0.7 to 1.0 | Very Strong | Positive |"
   ]
  },
  {
   "cell_type": "markdown",
   "metadata": {},
   "source": [
    "### **Population**"
   ]
  },
  {
   "cell_type": "markdown",
   "metadata": {},
   "source": [
    "$$\n",
    "\\rho_{X,Y} = \\frac{cov(X, Y)}{\\sigma_X \\sigma_Y}\n",
    "$$\n",
    "- Where\n",
    "    - $ cov(X, Y) $ is the covariance of $X$ and $Y$\n",
    "    - $ \\sigma_X $ is the standard deviation of $X$\n",
    "    - $ \\sigma_Y $ is the standard deviation of $Y$"
   ]
  },
  {
   "cell_type": "markdown",
   "metadata": {},
   "source": [
    "### **Sample**"
   ]
  },
  {
   "cell_type": "markdown",
   "metadata": {},
   "source": [
    "$$\n",
    "r_{x,y} = \\frac{cov(x, y)}{s_x s_y}\n",
    "$$\n",
    "- Where\n",
    "    - $ cov(x, y) $ is the covariance of $x$ and $y$\n",
    "    - $ s_x $ is the standard deviation of $x$\n",
    "    - $ s_y $ is the standard deviation of $y$"
   ]
  },
  {
   "cell_type": "markdown",
   "metadata": {},
   "source": [
    "## **Covariance**"
   ]
  },
  {
   "cell_type": "markdown",
   "metadata": {},
   "source": [
    "In probability theory and statistics, covariance is a measure of the joint variability of two random variables. The sign of the covariance, therefore, shows the tendency in the linear relationship between the variables:\n",
    "- Positive: the variables tend to increase together\n",
    "- Negative: one variable tends to decrease as the other increases\n",
    "- Zero: the variables are independent\n",
    "\n",
    "The [correlation coefficient](#correlation-coefficient-pearsons-r) normalizes the covariance by dividing by the geometric mean of the total variances for the two random variables. \n",
    "\n",
    "The Covariance of the same variable is the variance of that variable."
   ]
  },
  {
   "cell_type": "markdown",
   "metadata": {},
   "source": [
    "### **Population**"
   ]
  },
  {
   "cell_type": "markdown",
   "metadata": {},
   "source": [
    "$$\n",
    "cov(X, Y) = \\frac{1}{N} \\sum_{i=1}^{N} (X_i - \\mu_X)(Y_i - \\mu_Y)\n",
    "$$\n",
    "- Where\n",
    "    - $ N $ is the number of observations\n",
    "    - $ X_i $ is the $i^{th}$ observation of $X$\n",
    "    - $ Y_i $ is the $i^{th}$ observation of $Y$\n",
    "    - $ \\mu_X $ is the mean of $X$\n",
    "    - $ \\mu_Y $ is the mean of $Y$"
   ]
  },
  {
   "cell_type": "markdown",
   "metadata": {},
   "source": [
    "### **Sample**"
   ]
  },
  {
   "cell_type": "markdown",
   "metadata": {},
   "source": [
    "$$\n",
    "cov(x, y) = \\frac{1}{n-1} \\sum_{i=1}^{n} (x_i - \\bar{x})(y_i - \\bar{y})\n",
    "$$\n",
    "- Where\n",
    "    - $ n $ is the number of observations\n",
    "    - $ x_i $ is the $i^{th}$ observation of $x$\n",
    "    - $ y_i $ is the $i^{th}$ observation of $y$\n",
    "    - $ \\bar{x} $ is the mean of $x$\n",
    "    - $ \\bar{y} $ is the mean of $y$"
   ]
  },
  {
   "cell_type": "markdown",
   "metadata": {},
   "source": [
    "## **Mean**"
   ]
  },
  {
   "cell_type": "markdown",
   "metadata": {},
   "source": [
    "**Mean** is the average of the numbers. It is calculated by dividing the sum of the numbers by the count of the numbers.\n",
    "$$\n",
    "\\mu = \\frac{1}{N} \\sum_{i=1}^{N} X_i\n",
    "$$\n",
    "- Where\n",
    "    - $ N $ is the number of observations\n",
    "    - $ X_i $ is the $i^{th}$ observation"
   ]
  },
  {
   "cell_type": "markdown",
   "metadata": {},
   "source": [
    "## **Mean Normalization**"
   ]
  },
  {
   "cell_type": "markdown",
   "metadata": {},
   "source": [
    "$$\n",
    "X_{norm} = \\frac{X - \\mu}{\\max(X) - \\min(X)}\n",
    "$$\n",
    "- Where\n",
    "    - $ X $ is the observation\n",
    "    - $ \\mu $ is the mean of the observations\n",
    "    - $ \\max(X) $ is the maximum value of the observations\n",
    "    - $ \\min(X) $ is the minimum value of the observations"
   ]
  },
  {
   "cell_type": "markdown",
   "metadata": {},
   "source": [
    "## **Min-Max Normalization**"
   ]
  },
  {
   "cell_type": "markdown",
   "metadata": {},
   "source": [
    "### **Range [0, 1]**"
   ]
  },
  {
   "cell_type": "markdown",
   "metadata": {},
   "source": [
    "$$\n",
    "X_{norm} = \\frac{X - \\min(X)}{\\max(X) - \\min(X)}\n",
    "$$\n",
    "- Where\n",
    "    - $ X $ is the observation\n",
    "    - $ \\min(X) $ is the minimum value of the observations\n",
    "    - $ \\max(X) $ is the maximum value of the observations"
   ]
  },
  {
   "cell_type": "markdown",
   "metadata": {},
   "source": [
    "### **Range [a, b]**"
   ]
  },
  {
   "cell_type": "markdown",
   "metadata": {},
   "source": [
    "$$\n",
    "X_{norm} = a + \\frac{(X - \\min(X))(b - a)}{\\max(X) - \\min(X)}\n",
    "$$\n",
    "- Where\n",
    "    - $ X $ is the observation\n",
    "    - $ \\min(X) $ is the minimum value of the observations\n",
    "    - $ \\max(X) $ is the maximum value of the observations\n",
    "    - $ a $ is the minimum value of the new range\n",
    "    - $ b $ is the maximum value of the new range"
   ]
  },
  {
   "cell_type": "markdown",
   "metadata": {},
   "source": [
    "## **Standard Deviation**"
   ]
  },
  {
   "cell_type": "markdown",
   "metadata": {},
   "source": [
    "### **Population**"
   ]
  },
  {
   "cell_type": "markdown",
   "metadata": {},
   "source": [
    "$$\n",
    "\\sigma = \\sqrt{\\frac{1}{N} \\sum_{i=1}^{N} (X_i - \\mu)^2}\n",
    "$$\n",
    "- Where\n",
    "    - $ N $ is the number of observations\n",
    "    - $ X_i $ is the $i^{th}$ observation\n",
    "    - $ \\mu $ is the mean of the population"
   ]
  },
  {
   "cell_type": "markdown",
   "metadata": {},
   "source": [
    "### **Sample**"
   ]
  },
  {
   "cell_type": "markdown",
   "metadata": {},
   "source": [
    "$$\n",
    "s = \\sqrt{\\frac{1}{n-1} \\sum_{i=1}^{n} (x_i - \\bar{x})^2}\n",
    "$$\n",
    "- Where\n",
    "    - $ n $ is the number of observations\n",
    "    - $ x_i $ is the $i^{th}$ observation\n",
    "    - $ \\bar{x} $ is the mean of the sample"
   ]
  },
  {
   "cell_type": "markdown",
   "metadata": {},
   "source": [
    "## **Variance**"
   ]
  },
  {
   "cell_type": "markdown",
   "metadata": {},
   "source": [
    "### **Population**"
   ]
  },
  {
   "cell_type": "markdown",
   "metadata": {},
   "source": [
    "$$\n",
    "\\sigma^2 = \\frac{1}{N} \\sum_{i=1}^{N} (X_i - \\mu)^2\n",
    "$$\n",
    "- Where\n",
    "    - $ N $ is the number of observations\n",
    "    - $ X_i $ is the $i^{th}$ observation\n",
    "    - $ \\mu $ is the mean of the population"
   ]
  },
  {
   "cell_type": "markdown",
   "metadata": {},
   "source": [
    "### **Sample**"
   ]
  },
  {
   "cell_type": "markdown",
   "metadata": {},
   "source": [
    "$$\n",
    "s^2 = \\frac{1}{n-1} \\sum_{i=1}^{n} (x_i - \\bar{x})^2\n",
    "$$\n",
    "- Where\n",
    "    - $ n $ is the number of observations\n",
    "    - $ x_i $ is the $i^{th}$ observation\n",
    "    - $ \\bar{x} $ is the mean of the sample"
   ]
  },
  {
   "cell_type": "markdown",
   "metadata": {},
   "source": [
    "## **Z-Score (Standard Score)**"
   ]
  },
  {
   "cell_type": "markdown",
   "metadata": {},
   "source": [
    "### **Population**"
   ]
  },
  {
   "cell_type": "markdown",
   "metadata": {},
   "source": [
    "$$\n",
    "z = \\frac{X - \\mu}{\\sigma}\n",
    "$$\n",
    "- Where\n",
    "    - $ X $ is the observation\n",
    "    - $ \\mu $ is the mean of the population\n",
    "    - $ \\sigma $ is the standard deviation of the population"
   ]
  },
  {
   "cell_type": "markdown",
   "metadata": {},
   "source": [
    "### **Sample**"
   ]
  },
  {
   "cell_type": "markdown",
   "metadata": {},
   "source": [
    "$$\n",
    "z = \\frac{x - \\bar{x}}{s}\n",
    "$$\n",
    "- Where\n",
    "    - $ x $ is the observation\n",
    "    - $ \\bar{x} $ is the mean of the sample\n",
    "    - $ s $ is the standard deviation of the sample"
   ]
  }
 ],
 "metadata": {
  "kernelspec": {
   "display_name": "Machine_Learning-gyk95Y7k",
   "language": "python",
   "name": "python3"
  },
  "language_info": {
   "codemirror_mode": {
    "name": "ipython",
    "version": 3
   },
   "file_extension": ".py",
   "mimetype": "text/x-python",
   "name": "python",
   "nbconvert_exporter": "python",
   "pygments_lexer": "ipython3",
   "version": "3.11.1"
  }
 },
 "nbformat": 4,
 "nbformat_minor": 2
}
